{
 "cells": [
  {
   "cell_type": "code",
   "execution_count": 1,
   "metadata": {},
   "outputs": [
    {
     "name": "stdout",
     "output_type": "stream",
     "text": [
      "Tabla \"devices\" guardada como devices.csv\n",
      "Tabla \"mqtt_connections\" guardada como mqtt_connections.csv\n",
      "Tabla \"pet_owners\" guardada como pet_owners.csv\n",
      "Tabla \"pets\" guardada como pets.csv\n",
      "Tabla \"sensor_data\" guardada como sensor_data.csv\n",
      "Tabla \"users\" guardada como users.csv\n"
     ]
    }
   ],
   "source": [
    "import pandas as pd\n",
    "from sqlalchemy import create_engine\n",
    "\n",
    "# Datos de conexión\n",
    "user = 'neondb_owner'\n",
    "password = 'npg_haLf64lsGvBr'\n",
    "host = 'ep-royal-voice-a4nxjivp.us-east-1.aws.neon.tech'\n",
    "port = '5432'\n",
    "dbname = 'neondb'\n",
    "\n",
    "# Crear cadena de conexión\n",
    "DATABASE_URL = f'postgresql+psycopg2://{user}:{password}@{host}:{port}/{dbname}?sslmode=require'\n",
    "\n",
    "# Crear motor de conexión\n",
    "engine = create_engine(DATABASE_URL)\n",
    "\n",
    "# Lista de tablas\n",
    "tablas = [\n",
    "    'devices',\n",
    "    'mqtt_connections',\n",
    "    'pet_owners',\n",
    "    'pets',\n",
    "    'sensor_data',\n",
    "    'users'\n",
    "]\n",
    "\n",
    "# Leer y guardar cada tabla en un archivo CSV\n",
    "for tabla in tablas:\n",
    "    try:\n",
    "        df = pd.read_sql(f'SELECT * FROM {tabla}', engine)\n",
    "        df.to_csv(f'{tabla}.csv', index=False)\n",
    "        print(f'Tabla \"{tabla}\" guardada como {tabla}.csv')\n",
    "    except Exception as e:\n",
    "        print(f'Error al leer o guardar la tabla \"{tabla}\": {e}')\n"
   ]
  },
  {
   "cell_type": "code",
   "execution_count": null,
   "metadata": {},
   "outputs": [],
   "source": [
    "\n"
   ]
  }
 ],
 "metadata": {
  "kernelspec": {
   "display_name": "base",
   "language": "python",
   "name": "python3"
  },
  "language_info": {
   "codemirror_mode": {
    "name": "ipython",
    "version": 3
   },
   "file_extension": ".py",
   "mimetype": "text/x-python",
   "name": "python",
   "nbconvert_exporter": "python",
   "pygments_lexer": "ipython3",
   "version": "3.10.9"
  }
 },
 "nbformat": 4,
 "nbformat_minor": 2
}
